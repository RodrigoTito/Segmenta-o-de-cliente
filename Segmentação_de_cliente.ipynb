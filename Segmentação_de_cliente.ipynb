{
  "nbformat": 4,
  "nbformat_minor": 0,
  "metadata": {
    "colab": {
      "name": "Segmentação de cliente.ipynb",
      "provenance": [],
      "collapsed_sections": [],
      "authorship_tag": "ABX9TyM2ewDT1C0H+H9HuG3RQy6e",
      "include_colab_link": true
    },
    "kernelspec": {
      "name": "python3",
      "display_name": "Python 3"
    },
    "language_info": {
      "name": "python"
    }
  },
  "cells": [
    {
      "cell_type": "markdown",
      "metadata": {
        "id": "view-in-github",
        "colab_type": "text"
      },
      "source": [
        "<a href=\"https://colab.research.google.com/github/RodrigoTito/Segmenta-o-de-cliente/blob/main/Segmenta%C3%A7%C3%A3o_de_cliente.ipynb\" target=\"_parent\"><img src=\"https://colab.research.google.com/assets/colab-badge.svg\" alt=\"Open In Colab\"/></a>"
      ]
    },
    {
      "cell_type": "markdown",
      "metadata": {
        "id": "AUJUWowXJgJ6"
      },
      "source": [
        "## Segmentação de cliente\n",
        "\n",
        "\n",
        "*Uma empresa tem planos de entrar em novos mercados com seus produtos existentes **(P1, P2, P3, P4 e P5)**. Após intensa pesquisa de mercado, eles deduziram que o comportamento do novo mercado é semelhante ao mercado existente.* \n",
        "\n",
        "*Em seu mercado existente, a equipe de vendas classificou todos os clientes em **4** segmentos **(A, B, C, D)**. Em seguida, eles realizaram divulgação e comunicação segmentada para diferentes segmentos de clientes. Essa estratégia funcionou excepcionalmente bem para eles. Eles planejam usar a mesma estratégia em novos mercados e identificaram **2627** novos clientes em potencial.* \n",
        "\n",
        "**O objetivo é ajudar a equipe de marketing prever o grupo certo de novos clientes.**"
      ]
    },
    {
      "cell_type": "markdown",
      "metadata": {
        "id": "F0lwdo8tKPwd"
      },
      "source": [
        "## Importações"
      ]
    },
    {
      "cell_type": "code",
      "metadata": {
        "id": "9QroiTpMJw9l"
      },
      "source": [
        "import pandas as pd\n",
        "import numpy as np\n",
        "import matplotlib.pyplot as plt\n",
        "import seaborn as sns"
      ],
      "execution_count": 405,
      "outputs": []
    },
    {
      "cell_type": "markdown",
      "metadata": {
        "id": "YeGBtCZtk3Se"
      },
      "source": [
        " * **Leitura de dados**"
      ]
    },
    {
      "cell_type": "code",
      "metadata": {
        "id": "9GQ3oi4KLDKL"
      },
      "source": [
        "train = pd.read_csv('train.csv')\n",
        "test = pd.read_csv('test.csv')"
      ],
      "execution_count": 406,
      "outputs": []
    },
    {
      "cell_type": "markdown",
      "metadata": {
        "id": "cgGK9_uJLvn8"
      },
      "source": [
        "## Investigando os dados"
      ]
    },
    {
      "cell_type": "markdown",
      "metadata": {
        "id": "PusnK04uPIS2"
      },
      "source": [
        "*  **Visualizando as primeiras 5 linhas do conjunto de dados de treino**"
      ]
    },
    {
      "cell_type": "code",
      "metadata": {
        "colab": {
          "base_uri": "https://localhost:8080/",
          "height": 0
        },
        "id": "X4rFlC8VLlmG",
        "outputId": "96fb22b7-d19a-4a63-a505-718e220e9c37"
      },
      "source": [
        "train.head()"
      ],
      "execution_count": 407,
      "outputs": [
        {
          "output_type": "execute_result",
          "data": {
            "text/html": [
              "<div>\n",
              "<style scoped>\n",
              "    .dataframe tbody tr th:only-of-type {\n",
              "        vertical-align: middle;\n",
              "    }\n",
              "\n",
              "    .dataframe tbody tr th {\n",
              "        vertical-align: top;\n",
              "    }\n",
              "\n",
              "    .dataframe thead th {\n",
              "        text-align: right;\n",
              "    }\n",
              "</style>\n",
              "<table border=\"1\" class=\"dataframe\">\n",
              "  <thead>\n",
              "    <tr style=\"text-align: right;\">\n",
              "      <th></th>\n",
              "      <th>ID</th>\n",
              "      <th>Gender</th>\n",
              "      <th>Ever_Married</th>\n",
              "      <th>Age</th>\n",
              "      <th>Graduated</th>\n",
              "      <th>Profession</th>\n",
              "      <th>Work_Experience</th>\n",
              "      <th>Spending_Score</th>\n",
              "      <th>Family_Size</th>\n",
              "      <th>Var_1</th>\n",
              "      <th>Segmentation</th>\n",
              "    </tr>\n",
              "  </thead>\n",
              "  <tbody>\n",
              "    <tr>\n",
              "      <th>0</th>\n",
              "      <td>462809</td>\n",
              "      <td>Male</td>\n",
              "      <td>No</td>\n",
              "      <td>22</td>\n",
              "      <td>No</td>\n",
              "      <td>Healthcare</td>\n",
              "      <td>1.0</td>\n",
              "      <td>Low</td>\n",
              "      <td>4.0</td>\n",
              "      <td>Cat_4</td>\n",
              "      <td>D</td>\n",
              "    </tr>\n",
              "    <tr>\n",
              "      <th>1</th>\n",
              "      <td>462643</td>\n",
              "      <td>Female</td>\n",
              "      <td>Yes</td>\n",
              "      <td>38</td>\n",
              "      <td>Yes</td>\n",
              "      <td>Engineer</td>\n",
              "      <td>NaN</td>\n",
              "      <td>Average</td>\n",
              "      <td>3.0</td>\n",
              "      <td>Cat_4</td>\n",
              "      <td>A</td>\n",
              "    </tr>\n",
              "    <tr>\n",
              "      <th>2</th>\n",
              "      <td>466315</td>\n",
              "      <td>Female</td>\n",
              "      <td>Yes</td>\n",
              "      <td>67</td>\n",
              "      <td>Yes</td>\n",
              "      <td>Engineer</td>\n",
              "      <td>1.0</td>\n",
              "      <td>Low</td>\n",
              "      <td>1.0</td>\n",
              "      <td>Cat_6</td>\n",
              "      <td>B</td>\n",
              "    </tr>\n",
              "    <tr>\n",
              "      <th>3</th>\n",
              "      <td>461735</td>\n",
              "      <td>Male</td>\n",
              "      <td>Yes</td>\n",
              "      <td>67</td>\n",
              "      <td>Yes</td>\n",
              "      <td>Lawyer</td>\n",
              "      <td>0.0</td>\n",
              "      <td>High</td>\n",
              "      <td>2.0</td>\n",
              "      <td>Cat_6</td>\n",
              "      <td>B</td>\n",
              "    </tr>\n",
              "    <tr>\n",
              "      <th>4</th>\n",
              "      <td>462669</td>\n",
              "      <td>Female</td>\n",
              "      <td>Yes</td>\n",
              "      <td>40</td>\n",
              "      <td>Yes</td>\n",
              "      <td>Entertainment</td>\n",
              "      <td>NaN</td>\n",
              "      <td>High</td>\n",
              "      <td>6.0</td>\n",
              "      <td>Cat_6</td>\n",
              "      <td>A</td>\n",
              "    </tr>\n",
              "  </tbody>\n",
              "</table>\n",
              "</div>"
            ],
            "text/plain": [
              "       ID  Gender Ever_Married  ...  Family_Size  Var_1 Segmentation\n",
              "0  462809    Male           No  ...          4.0  Cat_4            D\n",
              "1  462643  Female          Yes  ...          3.0  Cat_4            A\n",
              "2  466315  Female          Yes  ...          1.0  Cat_6            B\n",
              "3  461735    Male          Yes  ...          2.0  Cat_6            B\n",
              "4  462669  Female          Yes  ...          6.0  Cat_6            A\n",
              "\n",
              "[5 rows x 11 columns]"
            ]
          },
          "metadata": {},
          "execution_count": 407
        }
      ]
    },
    {
      "cell_type": "markdown",
      "metadata": {
        "id": "sCzUqFryUtDu"
      },
      "source": [
        "* **Descrição de dados** "
      ]
    },
    {
      "cell_type": "markdown",
      "metadata": {
        "id": "8wlsEDRhRxNV"
      },
      "source": [
        "Variable   | Definition | Definição \n",
        "--------- | ------| ------\n",
        "ID        | Unique ID | ID único\n",
        "Gender    | Gender of the customer | Sexo do cliente\n",
        "Ever_Married | Marital status of the customer| Estado civil do cliente\n",
        "Age | Age of the customer| Idade do cliente\n",
        "Graduated |\tIs the customer a graduate?| \tO cliente é graduado?\n",
        "Profession |\tProfession of the customer| Profissão do cliente\n",
        "Work_Experience |\tWork Experience in years| Experiência Profissional em anos\n",
        "Spending_Score|\tSpending score of the customer| \tPontuação de gastos do cliente\n",
        "Family_Size|\tNumber of family members for the customer (including the customer)| Número de membros da família para o cliente (incluindo o cliente)\n",
        "Var_1|\tAnonymised Category for the customer| Categoria anônima para o cliente\n",
        "Segmentation|\t(target) Customer Segment of the customer| \t(alvo) Segmento de cliente "
      ]
    },
    {
      "cell_type": "markdown",
      "metadata": {
        "id": "v7f_4bp3Pj72"
      },
      "source": [
        "* **Informações de cada variável do conjunto de dados de treino**"
      ]
    },
    {
      "cell_type": "code",
      "metadata": {
        "colab": {
          "base_uri": "https://localhost:8080/",
          "height": 0
        },
        "id": "dDf2Q3k5OzId",
        "outputId": "fb6fa564-38b8-4443-97ea-903b90498eea"
      },
      "source": [
        "df_aux = pd.DataFrame({'Type': train.dtypes,\n",
        "                      'Missing': train.isna().sum(),\n",
        "                      'Size': train.shape[0],\n",
        "                       'Unique': train.nunique()\n",
        "                     })\n",
        "df_aux['Missing_%']= df_aux.Missing/df_aux.Size * 100\n",
        "df_aux.sort_values(by='Missing_%', ascending=False)"
      ],
      "execution_count": 408,
      "outputs": [
        {
          "output_type": "execute_result",
          "data": {
            "text/html": [
              "<div>\n",
              "<style scoped>\n",
              "    .dataframe tbody tr th:only-of-type {\n",
              "        vertical-align: middle;\n",
              "    }\n",
              "\n",
              "    .dataframe tbody tr th {\n",
              "        vertical-align: top;\n",
              "    }\n",
              "\n",
              "    .dataframe thead th {\n",
              "        text-align: right;\n",
              "    }\n",
              "</style>\n",
              "<table border=\"1\" class=\"dataframe\">\n",
              "  <thead>\n",
              "    <tr style=\"text-align: right;\">\n",
              "      <th></th>\n",
              "      <th>Type</th>\n",
              "      <th>Missing</th>\n",
              "      <th>Size</th>\n",
              "      <th>Unique</th>\n",
              "      <th>Missing_%</th>\n",
              "    </tr>\n",
              "  </thead>\n",
              "  <tbody>\n",
              "    <tr>\n",
              "      <th>Work_Experience</th>\n",
              "      <td>float64</td>\n",
              "      <td>829</td>\n",
              "      <td>8068</td>\n",
              "      <td>15</td>\n",
              "      <td>10.275161</td>\n",
              "    </tr>\n",
              "    <tr>\n",
              "      <th>Family_Size</th>\n",
              "      <td>float64</td>\n",
              "      <td>335</td>\n",
              "      <td>8068</td>\n",
              "      <td>9</td>\n",
              "      <td>4.152206</td>\n",
              "    </tr>\n",
              "    <tr>\n",
              "      <th>Ever_Married</th>\n",
              "      <td>object</td>\n",
              "      <td>140</td>\n",
              "      <td>8068</td>\n",
              "      <td>2</td>\n",
              "      <td>1.735250</td>\n",
              "    </tr>\n",
              "    <tr>\n",
              "      <th>Profession</th>\n",
              "      <td>object</td>\n",
              "      <td>124</td>\n",
              "      <td>8068</td>\n",
              "      <td>9</td>\n",
              "      <td>1.536936</td>\n",
              "    </tr>\n",
              "    <tr>\n",
              "      <th>Graduated</th>\n",
              "      <td>object</td>\n",
              "      <td>78</td>\n",
              "      <td>8068</td>\n",
              "      <td>2</td>\n",
              "      <td>0.966782</td>\n",
              "    </tr>\n",
              "    <tr>\n",
              "      <th>Var_1</th>\n",
              "      <td>object</td>\n",
              "      <td>76</td>\n",
              "      <td>8068</td>\n",
              "      <td>7</td>\n",
              "      <td>0.941993</td>\n",
              "    </tr>\n",
              "    <tr>\n",
              "      <th>ID</th>\n",
              "      <td>int64</td>\n",
              "      <td>0</td>\n",
              "      <td>8068</td>\n",
              "      <td>8068</td>\n",
              "      <td>0.000000</td>\n",
              "    </tr>\n",
              "    <tr>\n",
              "      <th>Gender</th>\n",
              "      <td>object</td>\n",
              "      <td>0</td>\n",
              "      <td>8068</td>\n",
              "      <td>2</td>\n",
              "      <td>0.000000</td>\n",
              "    </tr>\n",
              "    <tr>\n",
              "      <th>Age</th>\n",
              "      <td>int64</td>\n",
              "      <td>0</td>\n",
              "      <td>8068</td>\n",
              "      <td>67</td>\n",
              "      <td>0.000000</td>\n",
              "    </tr>\n",
              "    <tr>\n",
              "      <th>Spending_Score</th>\n",
              "      <td>object</td>\n",
              "      <td>0</td>\n",
              "      <td>8068</td>\n",
              "      <td>3</td>\n",
              "      <td>0.000000</td>\n",
              "    </tr>\n",
              "    <tr>\n",
              "      <th>Segmentation</th>\n",
              "      <td>object</td>\n",
              "      <td>0</td>\n",
              "      <td>8068</td>\n",
              "      <td>4</td>\n",
              "      <td>0.000000</td>\n",
              "    </tr>\n",
              "  </tbody>\n",
              "</table>\n",
              "</div>"
            ],
            "text/plain": [
              "                    Type  Missing  Size  Unique  Missing_%\n",
              "Work_Experience  float64      829  8068      15  10.275161\n",
              "Family_Size      float64      335  8068       9   4.152206\n",
              "Ever_Married      object      140  8068       2   1.735250\n",
              "Profession        object      124  8068       9   1.536936\n",
              "Graduated         object       78  8068       2   0.966782\n",
              "Var_1             object       76  8068       7   0.941993\n",
              "ID                 int64        0  8068    8068   0.000000\n",
              "Gender            object        0  8068       2   0.000000\n",
              "Age                int64        0  8068      67   0.000000\n",
              "Spending_Score    object        0  8068       3   0.000000\n",
              "Segmentation      object        0  8068       4   0.000000"
            ]
          },
          "metadata": {},
          "execution_count": 408
        }
      ]
    },
    {
      "cell_type": "markdown",
      "metadata": {
        "id": "YItiR1guVWcs"
      },
      "source": [
        "Tipos de variáveis:\n",
        "\n",
        "* Categóricas nominais: **Gender, Ever_Married e Var_1 ;**\n",
        "\n",
        "* Categóricas ordinais: **Graduated, Profession, Spending_Score, Segmentation;**\n",
        "\n",
        "* Numéricas: **ID, Age, Work_Experience e Family_Size**"
      ]
    },
    {
      "cell_type": "markdown",
      "metadata": {
        "id": "zVTo5rZ5uFiP"
      },
      "source": [
        "* **Estatística Descritiva**"
      ]
    },
    {
      "cell_type": "code",
      "metadata": {
        "colab": {
          "base_uri": "https://localhost:8080/",
          "height": 0
        },
        "id": "6_IaUCrkuIaB",
        "outputId": "af774aa8-5727-4272-aa82-4af1d90c27e4"
      },
      "source": [
        "train.describe()"
      ],
      "execution_count": 409,
      "outputs": [
        {
          "output_type": "execute_result",
          "data": {
            "text/html": [
              "<div>\n",
              "<style scoped>\n",
              "    .dataframe tbody tr th:only-of-type {\n",
              "        vertical-align: middle;\n",
              "    }\n",
              "\n",
              "    .dataframe tbody tr th {\n",
              "        vertical-align: top;\n",
              "    }\n",
              "\n",
              "    .dataframe thead th {\n",
              "        text-align: right;\n",
              "    }\n",
              "</style>\n",
              "<table border=\"1\" class=\"dataframe\">\n",
              "  <thead>\n",
              "    <tr style=\"text-align: right;\">\n",
              "      <th></th>\n",
              "      <th>ID</th>\n",
              "      <th>Age</th>\n",
              "      <th>Work_Experience</th>\n",
              "      <th>Family_Size</th>\n",
              "    </tr>\n",
              "  </thead>\n",
              "  <tbody>\n",
              "    <tr>\n",
              "      <th>count</th>\n",
              "      <td>8068.000000</td>\n",
              "      <td>8068.000000</td>\n",
              "      <td>7239.000000</td>\n",
              "      <td>7733.000000</td>\n",
              "    </tr>\n",
              "    <tr>\n",
              "      <th>mean</th>\n",
              "      <td>463479.214551</td>\n",
              "      <td>43.466906</td>\n",
              "      <td>2.641663</td>\n",
              "      <td>2.850123</td>\n",
              "    </tr>\n",
              "    <tr>\n",
              "      <th>std</th>\n",
              "      <td>2595.381232</td>\n",
              "      <td>16.711696</td>\n",
              "      <td>3.406763</td>\n",
              "      <td>1.531413</td>\n",
              "    </tr>\n",
              "    <tr>\n",
              "      <th>min</th>\n",
              "      <td>458982.000000</td>\n",
              "      <td>18.000000</td>\n",
              "      <td>0.000000</td>\n",
              "      <td>1.000000</td>\n",
              "    </tr>\n",
              "    <tr>\n",
              "      <th>25%</th>\n",
              "      <td>461240.750000</td>\n",
              "      <td>30.000000</td>\n",
              "      <td>0.000000</td>\n",
              "      <td>2.000000</td>\n",
              "    </tr>\n",
              "    <tr>\n",
              "      <th>50%</th>\n",
              "      <td>463472.500000</td>\n",
              "      <td>40.000000</td>\n",
              "      <td>1.000000</td>\n",
              "      <td>3.000000</td>\n",
              "    </tr>\n",
              "    <tr>\n",
              "      <th>75%</th>\n",
              "      <td>465744.250000</td>\n",
              "      <td>53.000000</td>\n",
              "      <td>4.000000</td>\n",
              "      <td>4.000000</td>\n",
              "    </tr>\n",
              "    <tr>\n",
              "      <th>max</th>\n",
              "      <td>467974.000000</td>\n",
              "      <td>89.000000</td>\n",
              "      <td>14.000000</td>\n",
              "      <td>9.000000</td>\n",
              "    </tr>\n",
              "  </tbody>\n",
              "</table>\n",
              "</div>"
            ],
            "text/plain": [
              "                  ID          Age  Work_Experience  Family_Size\n",
              "count    8068.000000  8068.000000      7239.000000  7733.000000\n",
              "mean   463479.214551    43.466906         2.641663     2.850123\n",
              "std      2595.381232    16.711696         3.406763     1.531413\n",
              "min    458982.000000    18.000000         0.000000     1.000000\n",
              "25%    461240.750000    30.000000         0.000000     2.000000\n",
              "50%    463472.500000    40.000000         1.000000     3.000000\n",
              "75%    465744.250000    53.000000         4.000000     4.000000\n",
              "max    467974.000000    89.000000        14.000000     9.000000"
            ]
          },
          "metadata": {},
          "execution_count": 409
        }
      ]
    },
    {
      "cell_type": "markdown",
      "metadata": {
        "id": "IfL4lAzutAXy"
      },
      "source": [
        "## Visualizações"
      ]
    },
    {
      "cell_type": "code",
      "metadata": {
        "id": "lXtckb8Woy5r"
      },
      "source": [
        "def grafico_com_porcetagem_1(g):\n",
        "    g.ax.set_ylim(0,100)\n",
        "    for p in g.ax.patches:\n",
        "        x = p.get_x() + p.get_width()/2\n",
        "        y = p.get_height()\n",
        "        g.ax.annotate('{:.2f}%'.format(p.get_height()), (x, y+2), ha='center')\n",
        "    return g"
      ],
      "execution_count": 410,
      "outputs": []
    },
    {
      "cell_type": "markdown",
      "metadata": {
        "id": "GlDzoJVStDv-"
      },
      "source": [
        "**Vamos visualizar a relação dos atributos \"Segmentação\" x \"score de gasto\".**"
      ]
    },
    {
      "cell_type": "code",
      "metadata": {
        "id": "q8RwvJ2tN73j",
        "colab": {
          "base_uri": "https://localhost:8080/",
          "height": 426
        },
        "outputId": "4cab2a90-e589-45a5-b43d-9dabc41298d5"
      },
      "source": [
        "df = train.groupby('Segmentation')['Spending_Score'].value_counts(normalize=True)*100\n",
        "df = df.rename('percent').reset_index()#.sort_values(by=['percent'], ascending = True)\n",
        "\n",
        "g = sns.catplot(x='Segmentation',y='percent',hue='Spending_Score',kind='bar',data=df, height=5,aspect = 1.8,palette=\"tab10\")\n",
        "grafico_com_porcetagem_1(g)\n",
        "plt.title('Segmentação/Score de gastos \\n', fontsize=20)\n",
        "plt.show()"
      ],
      "execution_count": 411,
      "outputs": [
        {
          "output_type": "display_data",
          "data": {
            "image/png": "[encoded data removed]",
            "text/plain": [
              "<Figure size 771.2x360 with 1 Axes>"
            ]
          },
          "metadata": {}
        }
      ]
    },
    {
      "cell_type": "markdown",
      "metadata": {
        "id": "hsIceKtLtJ6u"
      },
      "source": [
        "**Comportamento com o sexo:**\n"
      ]
    },
    {
      "cell_type": "code",
      "metadata": {
        "colab": {
          "base_uri": "https://localhost:8080/",
          "height": 423
        },
        "id": "NQcHgqNBtJOl",
        "outputId": "eb9a29f4-d02a-42db-8bf1-761aa518182b"
      },
      "source": [
        "df = train.groupby('Segmentation')['Gender'].value_counts(normalize=True)*100\n",
        "df = df.rename('percent').reset_index()#.sort_values(by=['percent'], ascending = True)\n",
        "\n",
        "g = sns.catplot(x='Segmentation',y='percent',hue='Gender',kind='bar',data=df, height=5,aspect = 1.8,palette=\"tab10\")\n",
        "grafico_com_porcetagem_1(g)\n",
        "plt.title('Segmentação/Sexo \\n', fontsize=20)\n",
        "plt.show()"
      ],
      "execution_count": 412,
      "outputs": [
        {
          "output_type": "display_data",
          "data": {
            "image/png": "[encoded data removed]",
            "text/plain": [
              "<Figure size 749.15x360 with 1 Axes>"
            ]
          },
          "metadata": {}
        }
      ]
    },
    {
      "cell_type": "markdown",
      "metadata": {
        "id": "nOWdvKL5xKbI"
      },
      "source": [
        "**Comportamento da graduação:**\n"
      ]
    },
    {
      "cell_type": "code",
      "metadata": {
        "colab": {
          "base_uri": "https://localhost:8080/",
          "height": 426
        },
        "id": "W7PfQRc1xTW9",
        "outputId": "ca59d98a-5b1a-4bea-8bca-933bbef6dc23"
      },
      "source": [
        "df = train.groupby('Segmentation')['Graduated'].value_counts(normalize=True)*100\n",
        "df = df.rename('percent').reset_index()#.sort_values(by=['percent'], ascending = True)\n",
        "\n",
        "g = sns.catplot(x='Segmentation',y='percent',hue='Graduated',kind='bar',data=df, height=5,aspect = 1.8,palette=\"tab10\")\n",
        "grafico_com_porcetagem_1(g)\n",
        "plt.title('Segmentação/Graduação \\n', fontsize=20)\n",
        "plt.show()"
      ],
      "execution_count": 413,
      "outputs": [
        {
          "output_type": "display_data",
          "data": {
            "image/png": "[encoded data removed]",
            "text/plain": [
              "<Figure size 733.825x360 with 1 Axes>"
            ]
          },
          "metadata": {}
        }
      ]
    },
    {
      "cell_type": "markdown",
      "metadata": {
        "id": "VMYb1I8St1Q2"
      },
      "source": [
        "**Comportamento com a idade:**"
      ]
    },
    {
      "cell_type": "code",
      "metadata": {
        "colab": {
          "base_uri": "https://localhost:8080/",
          "height": 463
        },
        "id": "Tucorkd-t-2U",
        "outputId": "1ddb3045-41c7-4099-9ad3-3eec642d2135"
      },
      "source": [
        "plt.figure(figsize=(8,6))\n",
        "sns.boxenplot(x='Segmentation',y='Age',data=train,palette=\"tab10\")\n",
        "plt.title('Segmentação/Idade \\n', fontsize=20)\n",
        "plt.show()"
      ],
      "execution_count": 414,
      "outputs": [
        {
          "output_type": "display_data",
          "data": {
            "image/png": "[encoded data removed]",
            "text/plain": [
              "<Figure size 576x432 with 1 Axes>"
            ]
          },
          "metadata": {}
        }
      ]
    },
    {
      "cell_type": "code",
      "metadata": {
        "colab": {
          "base_uri": "https://localhost:8080/",
          "height": 420
        },
        "id": "N_Ka3c424NhD",
        "outputId": "7852506a-2651-4f9a-b7fb-1de96a3e54a3"
      },
      "source": [
        "plt.figure(figsize=(8,6))\n",
        "sns.scatterplot(data=train, x=\"Segmentation\", y=\"Spending_Score\", hue=\"Age\", palette='crest')\n",
        "plt.show()"
      ],
      "execution_count": 415,
      "outputs": [
        {
          "output_type": "display_data",
          "data": {
            "image/png": "[encoded data removed]",
            "text/plain": [
              "<Figure size 576x432 with 1 Axes>"
            ]
          },
          "metadata": {}
        }
      ]
    },
    {
      "cell_type": "markdown",
      "metadata": {
        "id": "BJTcCbXayEMG"
      },
      "source": [
        " **Comportamento  número de membros da família:**"
      ]
    },
    {
      "cell_type": "code",
      "metadata": {
        "colab": {
          "base_uri": "https://localhost:8080/",
          "height": 464
        },
        "id": "A_AvmEoAyJ8l",
        "outputId": "f28c38f6-b968-49fb-c251-24cfc4b405f1"
      },
      "source": [
        "plt.figure(figsize=(8,6))\n",
        "sns.boxenplot(x='Segmentation',y='Family_Size',data=train,palette=\"tab10\")\n",
        "plt.title('Segmentação/N. de membros da família \\n', fontsize=20)\n",
        "plt.show()"
      ],
      "execution_count": 416,
      "outputs": [
        {
          "output_type": "display_data",
          "data": {
            "image/png": "[encoded data removed]",
            "text/plain": [
              "<Figure size 576x432 with 1 Axes>"
            ]
          },
          "metadata": {}
        }
      ]
    },
    {
      "cell_type": "markdown",
      "metadata": {
        "id": "zG-BTF55KKET"
      },
      "source": [
        "**Comportamente do score de gasto com a graduação:**"
      ]
    },
    {
      "cell_type": "code",
      "metadata": {
        "colab": {
          "base_uri": "https://localhost:8080/",
          "height": 426
        },
        "id": "jz4xsCGdzCYX",
        "outputId": "012e39c1-9aaa-42b9-9a93-4bae3c9651d1"
      },
      "source": [
        "df = train.groupby('Spending_Score')['Graduated'].value_counts(normalize=True)*100\n",
        "df = df.rename('percent').reset_index()#.sort_values(by=['percent'], ascending = True)\n",
        "\n",
        "g = sns.catplot(x='Spending_Score',y='percent',hue='Graduated',kind='bar',data=df, height=5,aspect = 1.8,palette=\"tab10\")\n",
        "grafico_com_porcetagem_1(g)\n",
        "plt.title('Score de gastos/Graduação \\n', fontsize=20)\n",
        "plt.show()"
      ],
      "execution_count": 417,
      "outputs": [
        {
          "output_type": "display_data",
          "data": {
            "image/png": "[encoded data removed]",
            "text/plain": [
              "<Figure size 733.825x360 with 1 Axes>"
            ]
          },
          "metadata": {}
        }
      ]
    },
    {
      "cell_type": "markdown",
      "metadata": {
        "id": "L4fDZZcQZexM"
      },
      "source": [
        "## Transformação e Limpeza dos dados "
      ]
    },
    {
      "cell_type": "markdown",
      "metadata": {
        "id": "EKZ_vK4gbVuh"
      },
      "source": [
        "* **Preenchendo os dados ausentes dos conjuntos de treino e teste** "
      ]
    },
    {
      "cell_type": "code",
      "metadata": {
        "id": "uFbILObpZhal"
      },
      "source": [
        "for i, df in enumerate([train, test]):\n",
        "    # Preenchendo os dados ausentes das variáveis categóricas \n",
        "    df['Ever_Married'].fillna(df['Ever_Married'].mode()[0],inplace = True)\n",
        "    df['Profession'].fillna(df['Profession'].mode()[0],inplace = True)\n",
        "    df['Graduated'].fillna(df['Graduated'].mode()[0],inplace = True)\n",
        "    df['Var_1'].fillna(df['Var_1'].mode()[0],inplace = True)\n",
        "    # Preenchendo os dados ausentes das variáveis  numéricas\n",
        "    df['Work_Experience'].fillna(df['Work_Experience'].median(),inplace = True)\n",
        "    df['Family_Size'].fillna(df['Family_Size'].mode()[0],inplace = True)"
      ],
      "execution_count": 418,
      "outputs": []
    },
    {
      "cell_type": "markdown",
      "metadata": {
        "id": "eFhdBq6jWkds"
      },
      "source": [
        "* **Separando a variável resposta das variáveis preditoras**"
      ]
    },
    {
      "cell_type": "code",
      "metadata": {
        "id": "FsMZivspWpjz"
      },
      "source": [
        "X = train.drop(['ID','Segmentation'], axis = 1)\n",
        "y = train.Segmentation\n",
        "test_X = test.drop(['ID'], axis = 1)"
      ],
      "execution_count": 419,
      "outputs": []
    },
    {
      "cell_type": "markdown",
      "metadata": {
        "id": "u17wV4LUdJyW"
      },
      "source": [
        "* **Colocando o peso na variável pontuação de gastos**"
      ]
    },
    {
      "cell_type": "code",
      "metadata": {
        "id": "0QqbGZVodKeE"
      },
      "source": [
        "X['Spending_Score'].replace({'Low':1,'Average':2,'High':3},inplace=True)\n",
        "test_X['Spending_Score'].replace({'Low':1,'Average':2,'High':3},inplace=True)"
      ],
      "execution_count": 420,
      "outputs": []
    },
    {
      "cell_type": "markdown",
      "metadata": {
        "id": "VAkgqJqrZD8K"
      },
      "source": [
        "* **Transformando a variável resposta**"
      ]
    },
    {
      "cell_type": "code",
      "metadata": {
        "id": "_0q8owE-Y9W2"
      },
      "source": [
        "y.replace({'A':1,'B':2,'C':3,'D':4},inplace=True)"
      ],
      "execution_count": 421,
      "outputs": []
    },
    {
      "cell_type": "markdown",
      "metadata": {
        "id": "03vk98k_WSXr"
      },
      "source": [
        "* **Criando variáveis fictícias para as variáveis categóricas**"
      ]
    },
    {
      "cell_type": "code",
      "metadata": {
        "id": "CaRlIrXRWWAM"
      },
      "source": [
        "X = pd.get_dummies(X)\n",
        "test_X =  pd.get_dummies(test_X)"
      ],
      "execution_count": 422,
      "outputs": []
    },
    {
      "cell_type": "markdown",
      "metadata": {
        "id": "phyCCATmWG-Q"
      },
      "source": [
        "* **Dividindo o conjunto de treinamento**"
      ]
    },
    {
      "cell_type": "code",
      "metadata": {
        "id": "UsQPd71FWHe5"
      },
      "source": [
        "from sklearn.model_selection import train_test_split\n",
        "X_train,X_test, y_train,y_test =  train_test_split(X,y, test_size = 0.33)"
      ],
      "execution_count": 423,
      "outputs": []
    },
    {
      "cell_type": "markdown",
      "metadata": {
        "id": "eoIsSiRKVdDN"
      },
      "source": [
        "## Importando os modelos"
      ]
    },
    {
      "cell_type": "code",
      "metadata": {
        "id": "kTB8_2NtVftW"
      },
      "source": [
        "from sklearn.preprocessing import Normalizer\n",
        "from sklearn.metrics import confusion_matrix\n",
        "from sklearn.metrics import classification_report\n",
        "from sklearn.tree import DecisionTreeClassifier\n",
        "from sklearn.ensemble import ExtraTreesClassifier\n",
        "from sklearn.ensemble import RandomForestClassifier\n",
        "from sklearn.linear_model import RidgeClassifierCV\n",
        "from lightgbm import LGBMClassifier\n",
        "import datetime\n",
        "from sklearn.metrics import mean_squared_error, make_scorer\n",
        "from sklearn.metrics import accuracy_score"
      ],
      "execution_count": 357,
      "outputs": []
    },
    {
      "cell_type": "markdown",
      "metadata": {
        "id": "aeorlONEVOHC"
      },
      "source": [
        "## Treinando os medelos"
      ]
    },
    {
      "cell_type": "code",
      "metadata": {
        "colab": {
          "base_uri": "https://localhost:8080/"
        },
        "id": "T_wRmVMRVRmt",
        "outputId": "79c43649-e2d5-410e-b141-17eafc567b66"
      },
      "source": [
        "execution_results = []\n",
        "# Definindo os modelos:\n",
        "# [modelo, * dict * com parâmetros a serem testados, * lista * de UM item com o redimensionador a ser usado]\n",
        "modelos = ['RidgeClassifierCV','RandomForestClassifier',\n",
        "          'LGBMClassifier']\n",
        "score_model = [] # Acurácia\n",
        "MSE = [] # Erro quadrático médio\n",
        "measured_time_train = []\n",
        "models = [\n",
        "    [RidgeClassifierCV(), {}, [Normalizer()]],\n",
        "    [RandomForestClassifier(n_estimators=50), {}, [Normalizer()]],\n",
        "    [LGBMClassifier(earning_rate=0.02,\n",
        "                    boosting_type='gbdt', max_depth=4,  objective='multiclass', \n",
        "                    random_state=100,  \n",
        "                  n_estimators=1000 ,reg_alpha=0, reg_lambda=1, n_jobs=-1), {}, [Normalizer()]],\n",
        "]\n",
        "\n",
        "best_score = 9999999999999\n",
        "best_clf = None\n",
        "\n",
        "def loss_func(y_true, y_predicted):\n",
        "    return mean_squared_error(y_true, y_predicted, squared=False)\n",
        "\n",
        "score = make_scorer(loss_func, greater_is_better=False)\n",
        "\n",
        "for classifier in models:\n",
        "    print(\"Training {}...\".format(type(classifier[0]).__name__))\n",
        "    begin_time = datetime.datetime.now()\n",
        "\n",
        "    clf=classifier[0].fit(X_train, y_train) \n",
        "    msd_time_train = datetime.datetime.now() - begin_time\n",
        "    measured_time_train.append(format(msd_time_train))\n",
        "    # Prever com o conjunto de teste\n",
        "    begin_time = datetime.datetime.now()\n",
        "    y_pred = clf.predict(X_test)\n",
        "    # Calculando o tempo decorrido \n",
        "    measured_time_test = datetime.datetime.now() - begin_time\n",
        "    # Calculando erro quadrático médio \n",
        "    error = mean_squared_error(y_test, y_pred, squared=False)\n",
        "    MSE.append(error)\n",
        "    # Calculando a acurácia\n",
        "    score = accuracy_score(y_test, y_pred)\n",
        "    score_model.append(score)\n",
        "    if error < best_score:\n",
        "        best_score = error\n",
        "        best_clf = clf"
      ],
      "execution_count": 237,
      "outputs": [
        {
          "output_type": "stream",
          "name": "stdout",
          "text": [
            "Training RidgeClassifierCV...\n",
            "Training RandomForestClassifier...\n",
            "Training LGBMClassifier...\n"
          ]
        }
      ]
    },
    {
      "cell_type": "markdown",
      "metadata": {
        "id": "mUPpd8HVW3BG"
      },
      "source": [
        "## Resultados dos modelos"
      ]
    },
    {
      "cell_type": "code",
      "metadata": {
        "colab": {
          "base_uri": "https://localhost:8080/",
          "height": 142
        },
        "id": "z2hRHOCtW2X6",
        "outputId": "9b47e5a3-c6a1-4e6e-eb86-bf5decfef826"
      },
      "source": [
        "md = pd.DataFrame({'modelos': modelos,\n",
        "                   'mse': MSE,\n",
        "                   'score':score_model,\n",
        "                   'tempo decorrido de treinamento':measured_time_train})\n",
        "md.sort_values(['mse', 'score'])"
      ],
      "execution_count": 238,
      "outputs": [
        {
          "output_type": "execute_result",
          "data": {
            "text/html": [
              "<div>\n",
              "<style scoped>\n",
              "    .dataframe tbody tr th:only-of-type {\n",
              "        vertical-align: middle;\n",
              "    }\n",
              "\n",
              "    .dataframe tbody tr th {\n",
              "        vertical-align: top;\n",
              "    }\n",
              "\n",
              "    .dataframe thead th {\n",
              "        text-align: right;\n",
              "    }\n",
              "</style>\n",
              "<table border=\"1\" class=\"dataframe\">\n",
              "  <thead>\n",
              "    <tr style=\"text-align: right;\">\n",
              "      <th></th>\n",
              "      <th>modelos</th>\n",
              "      <th>mse</th>\n",
              "      <th>score</th>\n",
              "      <th>tempo decorrido de treinamento</th>\n",
              "    </tr>\n",
              "  </thead>\n",
              "  <tbody>\n",
              "    <tr>\n",
              "      <th>2</th>\n",
              "      <td>LGBMClassifier</td>\n",
              "      <td>1.308570</td>\n",
              "      <td>0.511078</td>\n",
              "      <td>0:00:02.336469</td>\n",
              "    </tr>\n",
              "    <tr>\n",
              "      <th>1</th>\n",
              "      <td>RandomForestClassifier</td>\n",
              "      <td>1.317578</td>\n",
              "      <td>0.489673</td>\n",
              "      <td>0:00:00.416049</td>\n",
              "    </tr>\n",
              "    <tr>\n",
              "      <th>0</th>\n",
              "      <td>RidgeClassifierCV</td>\n",
              "      <td>1.360899</td>\n",
              "      <td>0.481412</td>\n",
              "      <td>0:00:00.022297</td>\n",
              "    </tr>\n",
              "  </tbody>\n",
              "</table>\n",
              "</div>"
            ],
            "text/plain": [
              "                  modelos       mse     score tempo decorrido de treinamento\n",
              "2          LGBMClassifier  1.308570  0.511078                 0:00:02.336469\n",
              "1  RandomForestClassifier  1.317578  0.489673                 0:00:00.416049\n",
              "0       RidgeClassifierCV  1.360899  0.481412                 0:00:00.022297"
            ]
          },
          "metadata": {},
          "execution_count": 238
        }
      ]
    },
    {
      "cell_type": "code",
      "metadata": {
        "colab": {
          "base_uri": "https://localhost:8080/"
        },
        "id": "uZp8RjvAXEJL",
        "outputId": "55a8597a-16cd-47cb-9204-ee00546573a4"
      },
      "source": [
        "print(\"A melhor pontuação foi {} por clf {}\".format(best_score, str(best_clf)))"
      ],
      "execution_count": 239,
      "outputs": [
        {
          "output_type": "stream",
          "name": "stdout",
          "text": [
            "A melhor pontuação foi 1.308569634150282 por clf LGBMClassifier(boosting_type='gbdt', class_weight=None, colsample_bytree=1.0,\n",
            "               earning_rate=0.02, importance_type='split', learning_rate=0.1,\n",
            "               max_depth=4, min_child_samples=20, min_child_weight=0.001,\n",
            "               min_split_gain=0.0, n_estimators=1000, n_jobs=-1, num_leaves=31,\n",
            "               objective='multiclass', random_state=100, reg_alpha=0,\n",
            "               reg_lambda=1, silent=True, subsample=1.0,\n",
            "               subsample_for_bin=200000, subsample_freq=0)\n"
          ]
        }
      ]
    },
    {
      "cell_type": "markdown",
      "metadata": {
        "id": "yY1LewmoXIUb"
      },
      "source": [
        "* **Fazendo pevisão com o conjunto de dados X_test**"
      ]
    },
    {
      "cell_type": "code",
      "metadata": {
        "id": "k43-yx4-XGJ4"
      },
      "source": [
        "y_pred = best_clf.predict(X_test)"
      ],
      "execution_count": 240,
      "outputs": []
    },
    {
      "cell_type": "markdown",
      "metadata": {
        "id": "avXFb6hBXgFN"
      },
      "source": [
        "* **Verificando quão bom é o modelo para o conjunto de dados X_test**"
      ]
    },
    {
      "cell_type": "code",
      "metadata": {
        "colab": {
          "base_uri": "https://localhost:8080/"
        },
        "id": "YEuJLMSIXO-1",
        "outputId": "2b7e4fb5-05cf-4132-9d31-a97e60c8f579"
      },
      "source": [
        "print(classification_report(y_test, y_pred))"
      ],
      "execution_count": 241,
      "outputs": [
        {
          "output_type": "stream",
          "name": "stdout",
          "text": [
            "              precision    recall  f1-score   support\n",
            "\n",
            "           1       0.41      0.45      0.43       665\n",
            "           2       0.40      0.33      0.36       624\n",
            "           3       0.52      0.56      0.54       606\n",
            "           4       0.67      0.67      0.67       768\n",
            "\n",
            "    accuracy                           0.51      2663\n",
            "   macro avg       0.50      0.50      0.50      2663\n",
            "weighted avg       0.51      0.51      0.51      2663\n",
            "\n"
          ]
        }
      ]
    },
    {
      "cell_type": "markdown",
      "metadata": {
        "id": "JrqxXEiZXmzO"
      },
      "source": [
        "* **Visualizando a matriz de confusão**"
      ]
    },
    {
      "cell_type": "code",
      "metadata": {
        "colab": {
          "base_uri": "https://localhost:8080/"
        },
        "id": "778X5UE-Xs3F",
        "outputId": "24705edb-3a33-453d-c74e-28df3aebd683"
      },
      "source": [
        "print(confusion_matrix(y_test, y_pred))"
      ],
      "execution_count": 242,
      "outputs": [
        {
          "output_type": "stream",
          "name": "stdout",
          "text": [
            "[[300 149  87 129]\n",
            " [165 203 194  62]\n",
            " [ 93 107 340  66]\n",
            " [171  44  35 518]]\n"
          ]
        }
      ]
    },
    {
      "cell_type": "code",
      "metadata": {
        "id": "dulTQrHFf3Tc"
      },
      "source": [
        "target = best_clf.predict(test_X)\n",
        "res = pd.DataFrame(target)\n",
        "res.columns = [\"prediction\"]"
      ],
      "execution_count": 243,
      "outputs": []
    },
    {
      "cell_type": "markdown",
      "metadata": {
        "id": "WvCaeZq1X29F"
      },
      "source": [
        "* **Convertendo os valores 1:4 para A:D**"
      ]
    },
    {
      "cell_type": "code",
      "metadata": {
        "id": "_kwtDtgQX81I"
      },
      "source": [
        "res['prediction'].replace({1:'A',2:'B',3:'C',4:'D'},inplace=True)"
      ],
      "execution_count": 244,
      "outputs": []
    },
    {
      "cell_type": "markdown",
      "metadata": {
        "id": "xgLevByEGHVY"
      },
      "source": [
        "* **Inserindo a previsão do modelo do conjunto de dados test para submissão**"
      ]
    },
    {
      "cell_type": "code",
      "metadata": {
        "colab": {
          "base_uri": "https://localhost:8080/",
          "height": 204
        },
        "id": "QOFLNcdwEMmN",
        "outputId": "0465e0f6-1e7a-4ef6-f2d3-b64093a20b19"
      },
      "source": [
        "submission = pd.DataFrame({'ID': test['ID'], 'Segmentation':res['prediction']})\n",
        "submission.head()"
      ],
      "execution_count": 257,
      "outputs": [
        {
          "output_type": "execute_result",
          "data": {
            "text/html": [
              "<div>\n",
              "<style scoped>\n",
              "    .dataframe tbody tr th:only-of-type {\n",
              "        vertical-align: middle;\n",
              "    }\n",
              "\n",
              "    .dataframe tbody tr th {\n",
              "        vertical-align: top;\n",
              "    }\n",
              "\n",
              "    .dataframe thead th {\n",
              "        text-align: right;\n",
              "    }\n",
              "</style>\n",
              "<table border=\"1\" class=\"dataframe\">\n",
              "  <thead>\n",
              "    <tr style=\"text-align: right;\">\n",
              "      <th></th>\n",
              "      <th>ID</th>\n",
              "      <th>Segmentation</th>\n",
              "    </tr>\n",
              "  </thead>\n",
              "  <tbody>\n",
              "    <tr>\n",
              "      <th>0</th>\n",
              "      <td>458989</td>\n",
              "      <td>B</td>\n",
              "    </tr>\n",
              "    <tr>\n",
              "      <th>1</th>\n",
              "      <td>458994</td>\n",
              "      <td>C</td>\n",
              "    </tr>\n",
              "    <tr>\n",
              "      <th>2</th>\n",
              "      <td>458996</td>\n",
              "      <td>C</td>\n",
              "    </tr>\n",
              "    <tr>\n",
              "      <th>3</th>\n",
              "      <td>459000</td>\n",
              "      <td>C</td>\n",
              "    </tr>\n",
              "    <tr>\n",
              "      <th>4</th>\n",
              "      <td>459001</td>\n",
              "      <td>D</td>\n",
              "    </tr>\n",
              "  </tbody>\n",
              "</table>\n",
              "</div>"
            ],
            "text/plain": [
              "       ID Segmentation\n",
              "0  458989            B\n",
              "1  458994            C\n",
              "2  458996            C\n",
              "3  459000            C\n",
              "4  459001            D"
            ]
          },
          "metadata": {},
          "execution_count": 257
        }
      ]
    },
    {
      "cell_type": "markdown",
      "metadata": {
        "id": "IJPsVt1jYRws"
      },
      "source": [
        "## Entregável - Salvando os resultados finais"
      ]
    },
    {
      "cell_type": "code",
      "metadata": {
        "id": "KTyMru4rYTYP"
      },
      "source": [
        "from google.colab import files\n",
        "submission.to_csv('sample_submission.csv',index=False)         "
      ],
      "execution_count": 261,
      "outputs": []
    },
    {
      "cell_type": "code",
      "metadata": {
        "colab": {
          "base_uri": "https://localhost:8080/",
          "height": 204
        },
        "id": "eOQFBTrEYbJF",
        "outputId": "4bb45909-6787-4d9d-ec3c-c03c8bd66b7c"
      },
      "source": [
        "pd.read_csv('sample_submission.csv').head()"
      ],
      "execution_count": 262,
      "outputs": [
        {
          "output_type": "execute_result",
          "data": {
            "text/html": [
              "<div>\n",
              "<style scoped>\n",
              "    .dataframe tbody tr th:only-of-type {\n",
              "        vertical-align: middle;\n",
              "    }\n",
              "\n",
              "    .dataframe tbody tr th {\n",
              "        vertical-align: top;\n",
              "    }\n",
              "\n",
              "    .dataframe thead th {\n",
              "        text-align: right;\n",
              "    }\n",
              "</style>\n",
              "<table border=\"1\" class=\"dataframe\">\n",
              "  <thead>\n",
              "    <tr style=\"text-align: right;\">\n",
              "      <th></th>\n",
              "      <th>ID</th>\n",
              "      <th>Segmentation</th>\n",
              "    </tr>\n",
              "  </thead>\n",
              "  <tbody>\n",
              "    <tr>\n",
              "      <th>0</th>\n",
              "      <td>458989</td>\n",
              "      <td>B</td>\n",
              "    </tr>\n",
              "    <tr>\n",
              "      <th>1</th>\n",
              "      <td>458994</td>\n",
              "      <td>C</td>\n",
              "    </tr>\n",
              "    <tr>\n",
              "      <th>2</th>\n",
              "      <td>458996</td>\n",
              "      <td>C</td>\n",
              "    </tr>\n",
              "    <tr>\n",
              "      <th>3</th>\n",
              "      <td>459000</td>\n",
              "      <td>C</td>\n",
              "    </tr>\n",
              "    <tr>\n",
              "      <th>4</th>\n",
              "      <td>459001</td>\n",
              "      <td>D</td>\n",
              "    </tr>\n",
              "  </tbody>\n",
              "</table>\n",
              "</div>"
            ],
            "text/plain": [
              "       ID Segmentation\n",
              "0  458989            B\n",
              "1  458994            C\n",
              "2  458996            C\n",
              "3  459000            C\n",
              "4  459001            D"
            ]
          },
          "metadata": {},
          "execution_count": 262
        }
      ]
    },
    {
      "cell_type": "markdown",
      "metadata": {
        "id": "_msEMNj_plpD"
      },
      "source": [
        "## Agrupamento de Dados\n",
        "\n",
        "Nesta seção exploramos:\n",
        "\n",
        "* Seleção dos dados.\n",
        "* k-Means."
      ]
    },
    {
      "cell_type": "markdown",
      "metadata": {
        "id": "vEyqnR4Kviq_"
      },
      "source": [
        "* **Seleção dos dados**"
      ]
    },
    {
      "cell_type": "code",
      "metadata": {
        "colab": {
          "base_uri": "https://localhost:8080/",
          "height": 162
        },
        "id": "9xDyG39ks07s",
        "outputId": "3dd27a26-8c43-4811-9358-29bfc0cfb2ae"
      },
      "source": [
        "df = pd.concat([X,test_X])\n",
        "df.sample(3)"
      ],
      "execution_count": 424,
      "outputs": [
        {
          "output_type": "execute_result",
          "data": {
            "text/html": [
              "<div>\n",
              "<style scoped>\n",
              "    .dataframe tbody tr th:only-of-type {\n",
              "        vertical-align: middle;\n",
              "    }\n",
              "\n",
              "    .dataframe tbody tr th {\n",
              "        vertical-align: top;\n",
              "    }\n",
              "\n",
              "    .dataframe thead th {\n",
              "        text-align: right;\n",
              "    }\n",
              "</style>\n",
              "<table border=\"1\" class=\"dataframe\">\n",
              "  <thead>\n",
              "    <tr style=\"text-align: right;\">\n",
              "      <th></th>\n",
              "      <th>Age</th>\n",
              "      <th>Work_Experience</th>\n",
              "      <th>Spending_Score</th>\n",
              "      <th>Family_Size</th>\n",
              "      <th>Gender_Female</th>\n",
              "      <th>Gender_Male</th>\n",
              "      <th>Ever_Married_No</th>\n",
              "      <th>Ever_Married_Yes</th>\n",
              "      <th>Graduated_No</th>\n",
              "      <th>Graduated_Yes</th>\n",
              "      <th>Profession_Artist</th>\n",
              "      <th>Profession_Doctor</th>\n",
              "      <th>Profession_Engineer</th>\n",
              "      <th>Profession_Entertainment</th>\n",
              "      <th>Profession_Executive</th>\n",
              "      <th>Profession_Healthcare</th>\n",
              "      <th>Profession_Homemaker</th>\n",
              "      <th>Profession_Lawyer</th>\n",
              "      <th>Profession_Marketing</th>\n",
              "      <th>Var_1_Cat_1</th>\n",
              "      <th>Var_1_Cat_2</th>\n",
              "      <th>Var_1_Cat_3</th>\n",
              "      <th>Var_1_Cat_4</th>\n",
              "      <th>Var_1_Cat_5</th>\n",
              "      <th>Var_1_Cat_6</th>\n",
              "      <th>Var_1_Cat_7</th>\n",
              "    </tr>\n",
              "  </thead>\n",
              "  <tbody>\n",
              "    <tr>\n",
              "      <th>7741</th>\n",
              "      <td>59</td>\n",
              "      <td>0.0</td>\n",
              "      <td>1</td>\n",
              "      <td>1.0</td>\n",
              "      <td>0</td>\n",
              "      <td>1</td>\n",
              "      <td>1</td>\n",
              "      <td>0</td>\n",
              "      <td>0</td>\n",
              "      <td>1</td>\n",
              "      <td>0</td>\n",
              "      <td>0</td>\n",
              "      <td>0</td>\n",
              "      <td>1</td>\n",
              "      <td>0</td>\n",
              "      <td>0</td>\n",
              "      <td>0</td>\n",
              "      <td>0</td>\n",
              "      <td>0</td>\n",
              "      <td>0</td>\n",
              "      <td>0</td>\n",
              "      <td>0</td>\n",
              "      <td>1</td>\n",
              "      <td>0</td>\n",
              "      <td>0</td>\n",
              "      <td>0</td>\n",
              "    </tr>\n",
              "    <tr>\n",
              "      <th>7305</th>\n",
              "      <td>49</td>\n",
              "      <td>6.0</td>\n",
              "      <td>2</td>\n",
              "      <td>2.0</td>\n",
              "      <td>0</td>\n",
              "      <td>1</td>\n",
              "      <td>0</td>\n",
              "      <td>1</td>\n",
              "      <td>0</td>\n",
              "      <td>1</td>\n",
              "      <td>1</td>\n",
              "      <td>0</td>\n",
              "      <td>0</td>\n",
              "      <td>0</td>\n",
              "      <td>0</td>\n",
              "      <td>0</td>\n",
              "      <td>0</td>\n",
              "      <td>0</td>\n",
              "      <td>0</td>\n",
              "      <td>0</td>\n",
              "      <td>0</td>\n",
              "      <td>0</td>\n",
              "      <td>0</td>\n",
              "      <td>0</td>\n",
              "      <td>1</td>\n",
              "      <td>0</td>\n",
              "    </tr>\n",
              "    <tr>\n",
              "      <th>6814</th>\n",
              "      <td>35</td>\n",
              "      <td>3.0</td>\n",
              "      <td>2</td>\n",
              "      <td>2.0</td>\n",
              "      <td>0</td>\n",
              "      <td>1</td>\n",
              "      <td>0</td>\n",
              "      <td>1</td>\n",
              "      <td>0</td>\n",
              "      <td>1</td>\n",
              "      <td>1</td>\n",
              "      <td>0</td>\n",
              "      <td>0</td>\n",
              "      <td>0</td>\n",
              "      <td>0</td>\n",
              "      <td>0</td>\n",
              "      <td>0</td>\n",
              "      <td>0</td>\n",
              "      <td>0</td>\n",
              "      <td>0</td>\n",
              "      <td>0</td>\n",
              "      <td>0</td>\n",
              "      <td>0</td>\n",
              "      <td>0</td>\n",
              "      <td>1</td>\n",
              "      <td>0</td>\n",
              "    </tr>\n",
              "  </tbody>\n",
              "</table>\n",
              "</div>"
            ],
            "text/plain": [
              "      Age  Work_Experience  ...  Var_1_Cat_6  Var_1_Cat_7\n",
              "7741   59              0.0  ...            0            0\n",
              "7305   49              6.0  ...            1            0\n",
              "6814   35              3.0  ...            1            0\n",
              "\n",
              "[3 rows x 26 columns]"
            ]
          },
          "metadata": {},
          "execution_count": 424
        }
      ]
    },
    {
      "cell_type": "markdown",
      "metadata": {
        "id": "PRCCJ7obrq_d"
      },
      "source": [
        "## k-Means\n",
        "\n",
        "O algoritmo $KMeans$ agrupa os dados tentando separar amostras em  $k$ grupos de variância igual, minimizando a distância intercluster e maximizando a distância intracluster. "
      ]
    },
    {
      "cell_type": "markdown",
      "metadata": {
        "id": "m7V1oXtOQ-xg"
      },
      "source": [
        "* **Importando o modelo**"
      ]
    },
    {
      "cell_type": "code",
      "metadata": {
        "id": "kRFx0b4UsMyV"
      },
      "source": [
        "from sklearn.cluster import KMeans"
      ],
      "execution_count": 425,
      "outputs": []
    },
    {
      "cell_type": "markdown",
      "metadata": {
        "id": "0O34VFgBwOnE"
      },
      "source": [
        "* **Identificar os k grupos de clientes para particionar os dados.**"
      ]
    },
    {
      "cell_type": "code",
      "metadata": {
        "colab": {
          "base_uri": "https://localhost:8080/",
          "height": 318
        },
        "id": "ht3EYDvOY47c",
        "outputId": "8c0eee3b-6b6d-4503-ae17-69b71c7394d8"
      },
      "source": [
        "kmeans_kwargs = {\"init\": \"random\",\n",
        "        \"n_init\": 10,\n",
        "        \"max_iter\": 300,\n",
        "        \"random_state\": 42,\n",
        "}\n",
        "# A list holds the SSE values for each k\n",
        "sse = []\n",
        "for k in range(1, 11):\n",
        "  kmeans = KMeans(n_clusters=k, **kmeans_kwargs)\n",
        "  kmeans.fit(df)\n",
        "  sse.append(kmeans.inertia_)\n",
        "\n",
        "plt.style.use(\"fivethirtyeight\")\n",
        "plt.plot(range(1, 11), sse)\n",
        "plt.xticks(range(1, 11))\n",
        "plt.xlabel(\"Number of Clusters\")\n",
        "plt.ylabel(\"SSE\")\n",
        "plt.show()"
      ],
      "execution_count": 426,
      "outputs": [
        {
          "output_type": "display_data",
          "data": {
            "image/png": "[encoded data removed]",
            "text/plain": [
              "<Figure size 432x288 with 1 Axes>"
            ]
          },
          "metadata": {}
        }
      ]
    },
    {
      "cell_type": "code",
      "metadata": {
        "colab": {
          "base_uri": "https://localhost:8080/"
        },
        "id": "WCCup6nhaw5V",
        "outputId": "832bd300-e56b-4aca-e4cb-100e59046110"
      },
      "source": [
        "from kneed import KneeLocator\n",
        "kl = KneeLocator(range(1, 11), sse, curve=\"convex\", direction=\"decreasing\")\n",
        "print('k =',kl.elbow)"
      ],
      "execution_count": 427,
      "outputs": [
        {
          "output_type": "stream",
          "name": "stdout",
          "text": [
            "k = 3\n"
          ]
        }
      ]
    },
    {
      "cell_type": "code",
      "metadata": {
        "colab": {
          "base_uri": "https://localhost:8080/"
        },
        "id": "Y3JvS--GsRJo",
        "outputId": "bd370dbb-56db-43be-9c32-b064971b9a30"
      },
      "source": [
        "model = KMeans(n_clusters = 3)\n",
        "model.fit(df)"
      ],
      "execution_count": 428,
      "outputs": [
        {
          "output_type": "execute_result",
          "data": {
            "text/plain": [
              "KMeans(algorithm='auto', copy_x=True, init='k-means++', max_iter=300,\n",
              "       n_clusters=3, n_init=10, n_jobs=None, precompute_distances='auto',\n",
              "       random_state=None, tol=0.0001, verbose=0)"
            ]
          },
          "metadata": {},
          "execution_count": 428
        }
      ]
    },
    {
      "cell_type": "code",
      "metadata": {
        "colab": {
          "base_uri": "https://localhost:8080/",
          "height": 142
        },
        "id": "3cyVRkQexkvq",
        "outputId": "e70dabce-e96c-442b-fa9d-5f3f8bb99654"
      },
      "source": [
        "Train = pd.concat([train.iloc[:,:-1],test])\n",
        "Train['Group'] = model.predict(df)\n",
        "Train.sample(3)"
      ],
      "execution_count": 429,
      "outputs": [
        {
          "output_type": "execute_result",
          "data": {
            "text/html": [
              "<div>\n",
              "<style scoped>\n",
              "    .dataframe tbody tr th:only-of-type {\n",
              "        vertical-align: middle;\n",
              "    }\n",
              "\n",
              "    .dataframe tbody tr th {\n",
              "        vertical-align: top;\n",
              "    }\n",
              "\n",
              "    .dataframe thead th {\n",
              "        text-align: right;\n",
              "    }\n",
              "</style>\n",
              "<table border=\"1\" class=\"dataframe\">\n",
              "  <thead>\n",
              "    <tr style=\"text-align: right;\">\n",
              "      <th></th>\n",
              "      <th>ID</th>\n",
              "      <th>Gender</th>\n",
              "      <th>Ever_Married</th>\n",
              "      <th>Age</th>\n",
              "      <th>Graduated</th>\n",
              "      <th>Profession</th>\n",
              "      <th>Work_Experience</th>\n",
              "      <th>Spending_Score</th>\n",
              "      <th>Family_Size</th>\n",
              "      <th>Var_1</th>\n",
              "      <th>Group</th>\n",
              "    </tr>\n",
              "  </thead>\n",
              "  <tbody>\n",
              "    <tr>\n",
              "      <th>2238</th>\n",
              "      <td>466634</td>\n",
              "      <td>Male</td>\n",
              "      <td>No</td>\n",
              "      <td>20</td>\n",
              "      <td>No</td>\n",
              "      <td>Healthcare</td>\n",
              "      <td>1.0</td>\n",
              "      <td>Low</td>\n",
              "      <td>5.0</td>\n",
              "      <td>Cat_6</td>\n",
              "      <td>2</td>\n",
              "    </tr>\n",
              "    <tr>\n",
              "      <th>1639</th>\n",
              "      <td>464580</td>\n",
              "      <td>Male</td>\n",
              "      <td>No</td>\n",
              "      <td>32</td>\n",
              "      <td>No</td>\n",
              "      <td>Artist</td>\n",
              "      <td>9.0</td>\n",
              "      <td>Low</td>\n",
              "      <td>4.0</td>\n",
              "      <td>Cat_6</td>\n",
              "      <td>2</td>\n",
              "    </tr>\n",
              "    <tr>\n",
              "      <th>4687</th>\n",
              "      <td>460464</td>\n",
              "      <td>Male</td>\n",
              "      <td>No</td>\n",
              "      <td>27</td>\n",
              "      <td>Yes</td>\n",
              "      <td>Artist</td>\n",
              "      <td>9.0</td>\n",
              "      <td>Low</td>\n",
              "      <td>2.0</td>\n",
              "      <td>Cat_3</td>\n",
              "      <td>2</td>\n",
              "    </tr>\n",
              "  </tbody>\n",
              "</table>\n",
              "</div>"
            ],
            "text/plain": [
              "          ID Gender Ever_Married  Age  ... Spending_Score Family_Size  Var_1 Group\n",
              "2238  466634   Male           No   20  ...            Low         5.0  Cat_6     2\n",
              "1639  464580   Male           No   32  ...            Low         4.0  Cat_6     2\n",
              "4687  460464   Male           No   27  ...            Low         2.0  Cat_3     2\n",
              "\n",
              "[3 rows x 11 columns]"
            ]
          },
          "metadata": {},
          "execution_count": 429
        }
      ]
    },
    {
      "cell_type": "markdown",
      "metadata": {
        "id": "rrWYBQpyslju"
      },
      "source": [
        "* **Visualizando os Grupos**"
      ]
    },
    {
      "cell_type": "code",
      "metadata": {
        "colab": {
          "base_uri": "https://localhost:8080/",
          "height": 304
        },
        "id": "-ZZDRZGesp9p",
        "outputId": "a288fa2b-62c1-44a9-9ec7-f0086d342c07"
      },
      "source": [
        "sns.scatterplot(data=Train, x=\"Var_1\", y=\"Spending_Score\", hue='Group',\n",
        "                style='Group', palette='tab10')\n",
        "plt.show()"
      ],
      "execution_count": 437,
      "outputs": [
        {
          "output_type": "display_data",
          "data": {
            "image/png": "[encoded data removed]",
            "text/plain": [
              "<Figure size 432x288 with 1 Axes>"
            ]
          },
          "metadata": {}
        }
      ]
    },
    {
      "cell_type": "markdown",
      "metadata": {
        "id": "IoClaFk06P7j"
      },
      "source": [
        "## Características dos Grupos\n"
      ]
    },
    {
      "cell_type": "code",
      "metadata": {
        "colab": {
          "base_uri": "https://localhost:8080/"
        },
        "id": "si7bwjpA6SeT",
        "outputId": "958a6629-2132-401f-83c4-cd3318fc7f53"
      },
      "source": [
        "val_X =Train[['Spending_Score','Group']] \n",
        "val_X['Spending_Score'].replace({'Low':1,'Average':2,'High':3},inplace=True)\n",
        "val = val_X.groupby('Group').describe()"
      ],
      "execution_count": 486,
      "outputs": [
        {
          "output_type": "stream",
          "name": "stderr",
          "text": [
            "/usr/local/lib/python3.7/dist-packages/pandas/core/series.py:4582: SettingWithCopyWarning: \n",
            "A value is trying to be set on a copy of a slice from a DataFrame\n",
            "\n",
            "See the caveats in the documentation: https://pandas.pydata.org/pandas-docs/stable/user_guide/indexing.html#returning-a-view-versus-a-copy\n",
            "  method=method,\n"
          ]
        }
      ]
    },
    {
      "cell_type": "markdown",
      "metadata": {
        "id": "cMs3mxoZAX9X"
      },
      "source": [
        "* **Removendo alguns atributos**"
      ]
    },
    {
      "cell_type": "code",
      "metadata": {
        "id": "s2O5HcSB8PCX"
      },
      "source": [
        "spending_score = val['Spending_Score'].drop(['std','25%','50%','75%'], axis = 1)\n",
        "val = spending_score\n",
        "val.columns = ['Count','Score Mean', 'Score Min', 'Score Max']"
      ],
      "execution_count": 488,
      "outputs": []
    },
    {
      "cell_type": "code",
      "metadata": {
        "colab": {
          "base_uri": "https://localhost:8080/",
          "height": 463
        },
        "id": "I0VnizrH62nR",
        "outputId": "8ee8a952-2714-4682-cb27-034a91f6660b"
      },
      "source": [
        "plt.figure(figsize=(8,6))\n",
        "sns.boxenplot(data=val.iloc[:,1:].transpose(),palette=\"tab10\")\n",
        "plt.title('Grupo/Score de gastos \\n', fontsize=20)\n",
        "plt.show()"
      ],
      "execution_count": 494,
      "outputs": [
        {
          "output_type": "display_data",
          "data": {
            "image/png": "[encoded data removed]",
            "text/plain": [
              "<Figure size 576x432 with 1 Axes>"
            ]
          },
          "metadata": {}
        }
      ]
    },
    {
      "cell_type": "markdown",
      "metadata": {
        "id": "GiQAS5mwAiyv"
      },
      "source": [
        "* **Discussão k-Means**\n",
        "\n",
        "*O k-Means  particionou os dados em $3$ grupos bem visiveis.*\n",
        "\n",
        "*Suas características podem ser descritas como segue:*\n",
        "\n",
        "* *Grupo 0 - Tem em média score intermediário.*\n",
        "* *Grupo 1 - Tem em média score alto. (interessante)*\n",
        "* *Grupo 2 - Tem em média score baixo.*"
      ]
    },
    {
      "cell_type": "markdown",
      "metadata": {
        "id": "62nuQojC-zNC"
      },
      "source": [
        "### Avaliação - Silhouette\n",
        "\n",
        "$Silhouette$ é uma métrica de interpretação e validação de algoritmos de agrupamento de dados, avaliando a consistência dentro dos grupos. Quanto maior (mais próximo de 1) a silhouette melhor a divisão dos grupos. "
      ]
    },
    {
      "cell_type": "markdown",
      "metadata": {
        "id": "b-8viZiC9y8Y"
      },
      "source": [
        "* **Importando a métrica**"
      ]
    },
    {
      "cell_type": "code",
      "metadata": {
        "id": "EygxHCJQ_Dzi"
      },
      "source": [
        "from sklearn.metrics import silhouette_score"
      ],
      "execution_count": 323,
      "outputs": []
    },
    {
      "cell_type": "code",
      "metadata": {
        "colab": {
          "base_uri": "https://localhost:8080/"
        },
        "id": "XJs-7lce_F4z",
        "outputId": "a06a923a-af5d-4e5c-e7d6-24d2a03e786f"
      },
      "source": [
        "silhouette_score(df, Train['Group'])"
      ],
      "execution_count": 453,
      "outputs": [
        {
          "output_type": "execute_result",
          "data": {
            "text/plain": [
              "0.4699948851624406"
            ]
          },
          "metadata": {},
          "execution_count": 453
        }
      ]
    },
    {
      "cell_type": "markdown",
      "metadata": {
        "id": "7G00VZZEA4DM"
      },
      "source": [
        "## Entregável - Salvando os resultados finais"
      ]
    },
    {
      "cell_type": "code",
      "metadata": {
        "id": "_Nrtm9xuA58C"
      },
      "source": [
        "Train.rename(columns={'Group':'Segmento'},inplace=True)\n",
        "Train.Segmento.replace({0:'potencialmente valioso',1:'valioso',2:'precisa de atenção'},inplace=True)\n",
        "Train.to_csv('resultado_final.csv',index=False)  "
      ],
      "execution_count": 510,
      "outputs": []
    },
    {
      "cell_type": "code",
      "metadata": {
        "colab": {
          "base_uri": "https://localhost:8080/",
          "height": 204
        },
        "id": "f2Fy6G6jBOm_",
        "outputId": "b8547775-e0d2-463b-af17-28bf05ded380"
      },
      "source": [
        "pd.read_csv('resultado_final.csv').head()"
      ],
      "execution_count": 511,
      "outputs": [
        {
          "output_type": "execute_result",
          "data": {
            "text/html": [
              "<div>\n",
              "<style scoped>\n",
              "    .dataframe tbody tr th:only-of-type {\n",
              "        vertical-align: middle;\n",
              "    }\n",
              "\n",
              "    .dataframe tbody tr th {\n",
              "        vertical-align: top;\n",
              "    }\n",
              "\n",
              "    .dataframe thead th {\n",
              "        text-align: right;\n",
              "    }\n",
              "</style>\n",
              "<table border=\"1\" class=\"dataframe\">\n",
              "  <thead>\n",
              "    <tr style=\"text-align: right;\">\n",
              "      <th></th>\n",
              "      <th>ID</th>\n",
              "      <th>Gender</th>\n",
              "      <th>Ever_Married</th>\n",
              "      <th>Age</th>\n",
              "      <th>Graduated</th>\n",
              "      <th>Profession</th>\n",
              "      <th>Work_Experience</th>\n",
              "      <th>Spending_Score</th>\n",
              "      <th>Family_Size</th>\n",
              "      <th>Var_1</th>\n",
              "      <th>Segmento</th>\n",
              "    </tr>\n",
              "  </thead>\n",
              "  <tbody>\n",
              "    <tr>\n",
              "      <th>0</th>\n",
              "      <td>462809</td>\n",
              "      <td>Male</td>\n",
              "      <td>No</td>\n",
              "      <td>22</td>\n",
              "      <td>No</td>\n",
              "      <td>Healthcare</td>\n",
              "      <td>1.0</td>\n",
              "      <td>Low</td>\n",
              "      <td>4.0</td>\n",
              "      <td>Cat_4</td>\n",
              "      <td>precisa de atenção</td>\n",
              "    </tr>\n",
              "    <tr>\n",
              "      <th>1</th>\n",
              "      <td>462643</td>\n",
              "      <td>Female</td>\n",
              "      <td>Yes</td>\n",
              "      <td>38</td>\n",
              "      <td>Yes</td>\n",
              "      <td>Engineer</td>\n",
              "      <td>1.0</td>\n",
              "      <td>Average</td>\n",
              "      <td>3.0</td>\n",
              "      <td>Cat_4</td>\n",
              "      <td>potencialmente valioso</td>\n",
              "    </tr>\n",
              "    <tr>\n",
              "      <th>2</th>\n",
              "      <td>466315</td>\n",
              "      <td>Female</td>\n",
              "      <td>Yes</td>\n",
              "      <td>67</td>\n",
              "      <td>Yes</td>\n",
              "      <td>Engineer</td>\n",
              "      <td>1.0</td>\n",
              "      <td>Low</td>\n",
              "      <td>1.0</td>\n",
              "      <td>Cat_6</td>\n",
              "      <td>valioso</td>\n",
              "    </tr>\n",
              "    <tr>\n",
              "      <th>3</th>\n",
              "      <td>461735</td>\n",
              "      <td>Male</td>\n",
              "      <td>Yes</td>\n",
              "      <td>67</td>\n",
              "      <td>Yes</td>\n",
              "      <td>Lawyer</td>\n",
              "      <td>0.0</td>\n",
              "      <td>High</td>\n",
              "      <td>2.0</td>\n",
              "      <td>Cat_6</td>\n",
              "      <td>valioso</td>\n",
              "    </tr>\n",
              "    <tr>\n",
              "      <th>4</th>\n",
              "      <td>462669</td>\n",
              "      <td>Female</td>\n",
              "      <td>Yes</td>\n",
              "      <td>40</td>\n",
              "      <td>Yes</td>\n",
              "      <td>Entertainment</td>\n",
              "      <td>1.0</td>\n",
              "      <td>High</td>\n",
              "      <td>6.0</td>\n",
              "      <td>Cat_6</td>\n",
              "      <td>potencialmente valioso</td>\n",
              "    </tr>\n",
              "  </tbody>\n",
              "</table>\n",
              "</div>"
            ],
            "text/plain": [
              "       ID  Gender Ever_Married  ...  Family_Size  Var_1                Segmento\n",
              "0  462809    Male           No  ...          4.0  Cat_4      precisa de atenção\n",
              "1  462643  Female          Yes  ...          3.0  Cat_4  potencialmente valioso\n",
              "2  466315  Female          Yes  ...          1.0  Cat_6                 valioso\n",
              "3  461735    Male          Yes  ...          2.0  Cat_6                 valioso\n",
              "4  462669  Female          Yes  ...          6.0  Cat_6  potencialmente valioso\n",
              "\n",
              "[5 rows x 11 columns]"
            ]
          },
          "metadata": {},
          "execution_count": 511
        }
      ]
    }
  ]
}